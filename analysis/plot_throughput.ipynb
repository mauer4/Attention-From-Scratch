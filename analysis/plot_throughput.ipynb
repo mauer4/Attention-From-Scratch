{
 "cells": [
  {
   "cell_type": "markdown",
   "metadata": {},
   "source": [
    "# Throughput Plotting Notebook\n",
    "\n",
    "Use this notebook to visualise benchmark results generated via `analysis.benchmark_runtime`."
   ]
  }
 ],
 "metadata": {
  "kernelspec": {
   "display_name": "Python 3",
   "language": "python",
   "name": "python3"
  },
  "language_info": {
   "name": "python",
   "version": "3.12"
  }
 },
 "nbformat": 4,
 "nbformat_minor": 2
}
